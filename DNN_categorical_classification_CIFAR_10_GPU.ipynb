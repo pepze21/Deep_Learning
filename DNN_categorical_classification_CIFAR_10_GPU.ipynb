{
  "nbformat": 4,
  "nbformat_minor": 0,
  "metadata": {
    "colab": {
      "name": "DNN_categorical_classification_CIFAR_10_GPU.ipynb",
      "provenance": [],
      "collapsed_sections": []
    },
    "kernelspec": {
      "name": "python3",
      "display_name": "Python 3"
    },
    "language_info": {
      "name": "python"
    }
  },
  "cells": [
    {
      "cell_type": "code",
      "metadata": {
        "id": "dK7f9sPzRLEc"
      },
      "source": [
        "import warnings\n",
        "warnings.filterwarnings('ignore')"
      ],
      "execution_count": null,
      "outputs": []
    },
    {
      "cell_type": "code",
      "metadata": {
        "id": "HqllXUNzRd0H"
      },
      "source": [
        "import sys\n",
        "\n",
        "import numpy as np\n",
        "import tensorflow as tf\n",
        "from tensorflow.keras.datasets import cifar10\n",
        "from tensorflow.keras.utils import to_categorical\n",
        "from tensorflow.keras import models, layers\n",
        "\n",
        "import matplotlib.pyplot as plt\n"
      ],
      "execution_count": null,
      "outputs": []
    },
    {
      "cell_type": "code",
      "metadata": {
        "id": "04ekVIkqRdw6"
      },
      "source": [
        "from tensorflow.keras.datasets import cifar10\n",
        "\n",
        "(X_train, y_train), (X_test, y_test) = cifar10.load_data()"
      ],
      "execution_count": null,
      "outputs": []
    },
    {
      "cell_type": "code",
      "metadata": {
        "colab": {
          "base_uri": "https://localhost:8080/"
        },
        "id": "VcYR2bryRdt-",
        "outputId": "5d21fa8b-71fe-4ae5-e583-5aaaf49c9330"
      },
      "source": [
        "print(len(X_train))\n",
        "print(X_train.shape)\n",
        "\n",
        "print(len(y_train))\n",
        "print(y_train[0:5])"
      ],
      "execution_count": null,
      "outputs": [
        {
          "output_type": "stream",
          "name": "stdout",
          "text": [
            "50000\n",
            "(50000, 32, 32, 3)\n",
            "50000\n",
            "[[6]\n",
            " [9]\n",
            " [9]\n",
            " [4]\n",
            " [1]]\n"
          ]
        }
      ]
    },
    {
      "cell_type": "code",
      "metadata": {
        "colab": {
          "base_uri": "https://localhost:8080/"
        },
        "id": "fEiZdwXvRdrX",
        "outputId": "9485923a-8ab3-4172-e1fe-d14f6437b1ec"
      },
      "source": [
        "print(len(X_test))\n",
        "print(X_test.shape)\n",
        "\n",
        "print(len(y_test))\n",
        "print(y_test[0:5])"
      ],
      "execution_count": null,
      "outputs": [
        {
          "output_type": "stream",
          "name": "stdout",
          "text": [
            "10000\n",
            "(10000, 32, 32, 3)\n",
            "10000\n",
            "[[3]\n",
            " [8]\n",
            " [8]\n",
            " [0]\n",
            " [6]]\n"
          ]
        }
      ]
    },
    {
      "cell_type": "code",
      "metadata": {
        "colab": {
          "base_uri": "https://localhost:8080/"
        },
        "id": "rurcQdoTR27d",
        "outputId": "f40ed3ba-90b0-4b22-e120-c33591bb14fc"
      },
      "source": [
        "X_train"
      ],
      "execution_count": null,
      "outputs": [
        {
          "output_type": "execute_result",
          "data": {
            "text/plain": [
              "array([[[[ 59,  62,  63],\n",
              "         [ 43,  46,  45],\n",
              "         [ 50,  48,  43],\n",
              "         ...,\n",
              "         [158, 132, 108],\n",
              "         [152, 125, 102],\n",
              "         [148, 124, 103]],\n",
              "\n",
              "        [[ 16,  20,  20],\n",
              "         [  0,   0,   0],\n",
              "         [ 18,   8,   0],\n",
              "         ...,\n",
              "         [123,  88,  55],\n",
              "         [119,  83,  50],\n",
              "         [122,  87,  57]],\n",
              "\n",
              "        [[ 25,  24,  21],\n",
              "         [ 16,   7,   0],\n",
              "         [ 49,  27,   8],\n",
              "         ...,\n",
              "         [118,  84,  50],\n",
              "         [120,  84,  50],\n",
              "         [109,  73,  42]],\n",
              "\n",
              "        ...,\n",
              "\n",
              "        [[208, 170,  96],\n",
              "         [201, 153,  34],\n",
              "         [198, 161,  26],\n",
              "         ...,\n",
              "         [160, 133,  70],\n",
              "         [ 56,  31,   7],\n",
              "         [ 53,  34,  20]],\n",
              "\n",
              "        [[180, 139,  96],\n",
              "         [173, 123,  42],\n",
              "         [186, 144,  30],\n",
              "         ...,\n",
              "         [184, 148,  94],\n",
              "         [ 97,  62,  34],\n",
              "         [ 83,  53,  34]],\n",
              "\n",
              "        [[177, 144, 116],\n",
              "         [168, 129,  94],\n",
              "         [179, 142,  87],\n",
              "         ...,\n",
              "         [216, 184, 140],\n",
              "         [151, 118,  84],\n",
              "         [123,  92,  72]]],\n",
              "\n",
              "\n",
              "       [[[154, 177, 187],\n",
              "         [126, 137, 136],\n",
              "         [105, 104,  95],\n",
              "         ...,\n",
              "         [ 91,  95,  71],\n",
              "         [ 87,  90,  71],\n",
              "         [ 79,  81,  70]],\n",
              "\n",
              "        [[140, 160, 169],\n",
              "         [145, 153, 154],\n",
              "         [125, 125, 118],\n",
              "         ...,\n",
              "         [ 96,  99,  78],\n",
              "         [ 77,  80,  62],\n",
              "         [ 71,  73,  61]],\n",
              "\n",
              "        [[140, 155, 164],\n",
              "         [139, 146, 149],\n",
              "         [115, 115, 112],\n",
              "         ...,\n",
              "         [ 79,  82,  64],\n",
              "         [ 68,  70,  55],\n",
              "         [ 67,  69,  55]],\n",
              "\n",
              "        ...,\n",
              "\n",
              "        [[175, 167, 166],\n",
              "         [156, 154, 160],\n",
              "         [154, 160, 170],\n",
              "         ...,\n",
              "         [ 42,  34,  36],\n",
              "         [ 61,  53,  57],\n",
              "         [ 93,  83,  91]],\n",
              "\n",
              "        [[165, 154, 128],\n",
              "         [156, 152, 130],\n",
              "         [159, 161, 142],\n",
              "         ...,\n",
              "         [103,  93,  96],\n",
              "         [123, 114, 120],\n",
              "         [131, 121, 131]],\n",
              "\n",
              "        [[163, 148, 120],\n",
              "         [158, 148, 122],\n",
              "         [163, 156, 133],\n",
              "         ...,\n",
              "         [143, 133, 139],\n",
              "         [143, 134, 142],\n",
              "         [143, 133, 144]]],\n",
              "\n",
              "\n",
              "       [[[255, 255, 255],\n",
              "         [253, 253, 253],\n",
              "         [253, 253, 253],\n",
              "         ...,\n",
              "         [253, 253, 253],\n",
              "         [253, 253, 253],\n",
              "         [253, 253, 253]],\n",
              "\n",
              "        [[255, 255, 255],\n",
              "         [255, 255, 255],\n",
              "         [255, 255, 255],\n",
              "         ...,\n",
              "         [255, 255, 255],\n",
              "         [255, 255, 255],\n",
              "         [255, 255, 255]],\n",
              "\n",
              "        [[255, 255, 255],\n",
              "         [254, 254, 254],\n",
              "         [254, 254, 254],\n",
              "         ...,\n",
              "         [254, 254, 254],\n",
              "         [254, 254, 254],\n",
              "         [254, 254, 254]],\n",
              "\n",
              "        ...,\n",
              "\n",
              "        [[113, 120, 112],\n",
              "         [111, 118, 111],\n",
              "         [105, 112, 106],\n",
              "         ...,\n",
              "         [ 72,  81,  80],\n",
              "         [ 72,  80,  79],\n",
              "         [ 72,  80,  79]],\n",
              "\n",
              "        [[111, 118, 110],\n",
              "         [104, 111, 104],\n",
              "         [ 99, 106,  98],\n",
              "         ...,\n",
              "         [ 68,  75,  73],\n",
              "         [ 70,  76,  75],\n",
              "         [ 78,  84,  82]],\n",
              "\n",
              "        [[106, 113, 105],\n",
              "         [ 99, 106,  98],\n",
              "         [ 95, 102,  94],\n",
              "         ...,\n",
              "         [ 78,  85,  83],\n",
              "         [ 79,  85,  83],\n",
              "         [ 80,  86,  84]]],\n",
              "\n",
              "\n",
              "       ...,\n",
              "\n",
              "\n",
              "       [[[ 35, 178, 235],\n",
              "         [ 40, 176, 239],\n",
              "         [ 42, 176, 241],\n",
              "         ...,\n",
              "         [ 99, 177, 219],\n",
              "         [ 79, 147, 197],\n",
              "         [ 89, 148, 189]],\n",
              "\n",
              "        [[ 57, 182, 234],\n",
              "         [ 44, 184, 250],\n",
              "         [ 50, 183, 240],\n",
              "         ...,\n",
              "         [156, 182, 200],\n",
              "         [141, 177, 206],\n",
              "         [116, 149, 175]],\n",
              "\n",
              "        [[ 98, 197, 237],\n",
              "         [ 64, 189, 252],\n",
              "         [ 69, 192, 245],\n",
              "         ...,\n",
              "         [188, 195, 206],\n",
              "         [119, 135, 147],\n",
              "         [ 61,  79,  90]],\n",
              "\n",
              "        ...,\n",
              "\n",
              "        [[ 73,  79,  77],\n",
              "         [ 53,  63,  68],\n",
              "         [ 54,  68,  80],\n",
              "         ...,\n",
              "         [ 17,  40,  64],\n",
              "         [ 21,  36,  51],\n",
              "         [ 33,  48,  49]],\n",
              "\n",
              "        [[ 61,  68,  75],\n",
              "         [ 55,  70,  86],\n",
              "         [ 57,  79, 103],\n",
              "         ...,\n",
              "         [ 24,  48,  72],\n",
              "         [ 17,  35,  53],\n",
              "         [  7,  23,  32]],\n",
              "\n",
              "        [[ 44,  56,  73],\n",
              "         [ 46,  66,  88],\n",
              "         [ 49,  77, 105],\n",
              "         ...,\n",
              "         [ 27,  52,  77],\n",
              "         [ 21,  43,  66],\n",
              "         [ 12,  31,  50]]],\n",
              "\n",
              "\n",
              "       [[[189, 211, 240],\n",
              "         [186, 208, 236],\n",
              "         [185, 207, 235],\n",
              "         ...,\n",
              "         [175, 195, 224],\n",
              "         [172, 194, 222],\n",
              "         [169, 194, 220]],\n",
              "\n",
              "        [[194, 210, 239],\n",
              "         [191, 207, 236],\n",
              "         [190, 206, 235],\n",
              "         ...,\n",
              "         [173, 192, 220],\n",
              "         [171, 191, 218],\n",
              "         [167, 190, 216]],\n",
              "\n",
              "        [[208, 219, 244],\n",
              "         [205, 216, 240],\n",
              "         [204, 215, 239],\n",
              "         ...,\n",
              "         [175, 191, 217],\n",
              "         [172, 190, 216],\n",
              "         [169, 191, 215]],\n",
              "\n",
              "        ...,\n",
              "\n",
              "        [[207, 199, 181],\n",
              "         [203, 195, 175],\n",
              "         [203, 196, 173],\n",
              "         ...,\n",
              "         [135, 132, 127],\n",
              "         [162, 158, 150],\n",
              "         [168, 163, 151]],\n",
              "\n",
              "        [[198, 190, 170],\n",
              "         [189, 181, 159],\n",
              "         [180, 172, 147],\n",
              "         ...,\n",
              "         [178, 171, 160],\n",
              "         [175, 169, 156],\n",
              "         [175, 169, 154]],\n",
              "\n",
              "        [[198, 189, 173],\n",
              "         [189, 181, 162],\n",
              "         [178, 170, 149],\n",
              "         ...,\n",
              "         [195, 184, 169],\n",
              "         [196, 189, 171],\n",
              "         [195, 190, 171]]],\n",
              "\n",
              "\n",
              "       [[[229, 229, 239],\n",
              "         [236, 237, 247],\n",
              "         [234, 236, 247],\n",
              "         ...,\n",
              "         [217, 219, 233],\n",
              "         [221, 223, 234],\n",
              "         [222, 223, 233]],\n",
              "\n",
              "        [[222, 221, 229],\n",
              "         [239, 239, 249],\n",
              "         [233, 234, 246],\n",
              "         ...,\n",
              "         [223, 223, 236],\n",
              "         [227, 228, 238],\n",
              "         [210, 211, 220]],\n",
              "\n",
              "        [[213, 206, 211],\n",
              "         [234, 232, 239],\n",
              "         [231, 233, 244],\n",
              "         ...,\n",
              "         [220, 220, 232],\n",
              "         [220, 219, 232],\n",
              "         [202, 203, 215]],\n",
              "\n",
              "        ...,\n",
              "\n",
              "        [[150, 143, 135],\n",
              "         [140, 135, 127],\n",
              "         [132, 127, 120],\n",
              "         ...,\n",
              "         [224, 222, 218],\n",
              "         [230, 228, 225],\n",
              "         [241, 241, 238]],\n",
              "\n",
              "        [[137, 132, 126],\n",
              "         [130, 127, 120],\n",
              "         [125, 121, 115],\n",
              "         ...,\n",
              "         [181, 180, 178],\n",
              "         [202, 201, 198],\n",
              "         [212, 211, 207]],\n",
              "\n",
              "        [[122, 119, 114],\n",
              "         [118, 116, 110],\n",
              "         [120, 116, 111],\n",
              "         ...,\n",
              "         [179, 177, 173],\n",
              "         [164, 164, 162],\n",
              "         [163, 163, 161]]]], dtype=uint8)"
            ]
          },
          "metadata": {},
          "execution_count": 6
        }
      ]
    },
    {
      "cell_type": "code",
      "metadata": {
        "colab": {
          "base_uri": "https://localhost:8080/"
        },
        "id": "MSZ9hOH-R1cl",
        "outputId": "7d89ec2c-0d94-498b-830f-602f5652355d"
      },
      "source": [
        "X_train[0]"
      ],
      "execution_count": null,
      "outputs": [
        {
          "output_type": "execute_result",
          "data": {
            "text/plain": [
              "array([[[ 59,  62,  63],\n",
              "        [ 43,  46,  45],\n",
              "        [ 50,  48,  43],\n",
              "        ...,\n",
              "        [158, 132, 108],\n",
              "        [152, 125, 102],\n",
              "        [148, 124, 103]],\n",
              "\n",
              "       [[ 16,  20,  20],\n",
              "        [  0,   0,   0],\n",
              "        [ 18,   8,   0],\n",
              "        ...,\n",
              "        [123,  88,  55],\n",
              "        [119,  83,  50],\n",
              "        [122,  87,  57]],\n",
              "\n",
              "       [[ 25,  24,  21],\n",
              "        [ 16,   7,   0],\n",
              "        [ 49,  27,   8],\n",
              "        ...,\n",
              "        [118,  84,  50],\n",
              "        [120,  84,  50],\n",
              "        [109,  73,  42]],\n",
              "\n",
              "       ...,\n",
              "\n",
              "       [[208, 170,  96],\n",
              "        [201, 153,  34],\n",
              "        [198, 161,  26],\n",
              "        ...,\n",
              "        [160, 133,  70],\n",
              "        [ 56,  31,   7],\n",
              "        [ 53,  34,  20]],\n",
              "\n",
              "       [[180, 139,  96],\n",
              "        [173, 123,  42],\n",
              "        [186, 144,  30],\n",
              "        ...,\n",
              "        [184, 148,  94],\n",
              "        [ 97,  62,  34],\n",
              "        [ 83,  53,  34]],\n",
              "\n",
              "       [[177, 144, 116],\n",
              "        [168, 129,  94],\n",
              "        [179, 142,  87],\n",
              "        ...,\n",
              "        [216, 184, 140],\n",
              "        [151, 118,  84],\n",
              "        [123,  92,  72]]], dtype=uint8)"
            ]
          },
          "metadata": {},
          "execution_count": 7
        }
      ]
    },
    {
      "cell_type": "code",
      "metadata": {
        "colab": {
          "base_uri": "https://localhost:8080/",
          "height": 266
        },
        "id": "nDiJQRC8Rdoo",
        "outputId": "eafc08fa-7c18-4f1b-94d8-689851220c06"
      },
      "source": [
        "digit = X_train[0]\n",
        "plt.imshow(digit)\n",
        "plt.show()"
      ],
      "execution_count": null,
      "outputs": [
        {
          "output_type": "display_data",
          "data": {
            "image/png": "[encoded data removed]",
            "text/plain": [
              "<Figure size 432x288 with 1 Axes>"
            ]
          },
          "metadata": {
            "needs_background": "light"
          }
        }
      ]
    },
    {
      "cell_type": "code",
      "metadata": {
        "colab": {
          "base_uri": "https://localhost:8080/"
        },
        "id": "y4bTwuQ3Rdli",
        "outputId": "5b133b44-b43e-4544-ef64-b9172a07e4da"
      },
      "source": [
        "np.set_printoptions(linewidth = 150)\n",
        "\n",
        "print(X_train[0][0])"
      ],
      "execution_count": null,
      "outputs": [
        {
          "output_type": "stream",
          "name": "stdout",
          "text": [
            "[[ 59  62  63]\n",
            " [ 43  46  45]\n",
            " [ 50  48  43]\n",
            " [ 68  54  42]\n",
            " [ 98  73  52]\n",
            " [119  91  63]\n",
            " [139 107  75]\n",
            " [145 110  80]\n",
            " [149 117  89]\n",
            " [149 120  93]\n",
            " [131 103  77]\n",
            " [125  99  76]\n",
            " [142 115  91]\n",
            " [144 112  86]\n",
            " [137 105  79]\n",
            " [129  97  71]\n",
            " [137 106  79]\n",
            " [134 106  76]\n",
            " [124  97  64]\n",
            " [139 113  78]\n",
            " [139 112  75]\n",
            " [133 105  69]\n",
            " [136 105  74]\n",
            " [139 108  77]\n",
            " [152 120  89]\n",
            " [163 131 100]\n",
            " [168 136 108]\n",
            " [159 129 102]\n",
            " [158 130 104]\n",
            " [158 132 108]\n",
            " [152 125 102]\n",
            " [148 124 103]]\n"
          ]
        }
      ]
    },
    {
      "cell_type": "code",
      "metadata": {
        "colab": {
          "base_uri": "https://localhost:8080/"
        },
        "id": "2ohyy7DzRdiN",
        "outputId": "eed220ec-877b-4453-ec65-321002e12055"
      },
      "source": [
        "X_train = X_train.reshape(50000, 32 * 32 * 3)\n",
        "X_test = X_test.reshape(10000, 32 * 32 * 3)\n",
        "X_train.shape, X_test.shape"
      ],
      "execution_count": null,
      "outputs": [
        {
          "output_type": "execute_result",
          "data": {
            "text/plain": [
              "((50000, 3072), (10000, 3072))"
            ]
          },
          "metadata": {},
          "execution_count": 10
        }
      ]
    },
    {
      "cell_type": "code",
      "metadata": {
        "colab": {
          "base_uri": "https://localhost:8080/"
        },
        "id": "SpsHkmaQRdfV",
        "outputId": "3a3aa620-25e7-4e94-c2b1-51e591a851ff"
      },
      "source": [
        "X_train = X_train.astype(float)/255\n",
        "X_test = X_test.astype(float)/255\n",
        "print(X_train[4])\n"
      ],
      "execution_count": null,
      "outputs": [
        {
          "output_type": "stream",
          "name": "stdout",
          "text": [
            "[0.66666667 0.70588235 0.77647059 ... 0.28627451 0.30196078 0.31372549]\n"
          ]
        }
      ]
    },
    {
      "cell_type": "code",
      "metadata": {
        "colab": {
          "base_uri": "https://localhost:8080/"
        },
        "id": "DOVsGKCQRdcN",
        "outputId": "7fa02529-cfc2-4320-f78c-de113428efb8"
      },
      "source": [
        "y_train = to_categorical(y_train)\n",
        "y_test = to_categorical(y_test)\n",
        "print(y_train[:5])"
      ],
      "execution_count": null,
      "outputs": [
        {
          "output_type": "stream",
          "name": "stdout",
          "text": [
            "[[0. 0. 0. 0. 0. 0. 1. 0. 0. 0.]\n",
            " [0. 0. 0. 0. 0. 0. 0. 0. 0. 1.]\n",
            " [0. 0. 0. 0. 0. 0. 0. 0. 0. 1.]\n",
            " [0. 0. 0. 0. 1. 0. 0. 0. 0. 0.]\n",
            " [0. 1. 0. 0. 0. 0. 0. 0. 0. 0.]]\n"
          ]
        }
      ]
    },
    {
      "cell_type": "code",
      "metadata": {
        "id": "E8ikBrTFRdZO"
      },
      "source": [
        "cifar = models.Sequential()\n",
        "cifar.add(layers.Dense(512, activation='relu', input_shape=(32 * 32 * 3,)))\n",
        "cifar.add(layers.Dense(256, activation='relu'))\n",
        "cifar.add(layers.Dense(10, activation='softmax'))"
      ],
      "execution_count": null,
      "outputs": []
    },
    {
      "cell_type": "code",
      "metadata": {
        "colab": {
          "base_uri": "https://localhost:8080/"
        },
        "id": "iOVIqQAORdWO",
        "outputId": "892d7f34-d133-4bd9-9855-1242c94381ef"
      },
      "source": [
        "cifar.summary()"
      ],
      "execution_count": null,
      "outputs": [
        {
          "output_type": "stream",
          "name": "stdout",
          "text": [
            "Model: \"sequential\"\n",
            "_________________________________________________________________\n",
            "Layer (type)                 Output Shape              Param #   \n",
            "=================================================================\n",
            "dense (Dense)                (None, 512)               1573376   \n",
            "_________________________________________________________________\n",
            "dense_1 (Dense)              (None, 256)               131328    \n",
            "_________________________________________________________________\n",
            "dense_2 (Dense)              (None, 10)                2570      \n",
            "=================================================================\n",
            "Total params: 1,707,274\n",
            "Trainable params: 1,707,274\n",
            "Non-trainable params: 0\n",
            "_________________________________________________________________\n"
          ]
        }
      ]
    },
    {
      "cell_type": "code",
      "metadata": {
        "id": "ThHHQVXNRdTF"
      },
      "source": [
        "cifar.compile(loss='categorical_crossentropy',\n",
        "              optimizer='adam',\n",
        "              metrics=['accuracy'])"
      ],
      "execution_count": null,
      "outputs": []
    },
    {
      "cell_type": "code",
      "metadata": {
        "colab": {
          "base_uri": "https://localhost:8080/"
        },
        "id": "gyok_mffRdPg",
        "outputId": "f99e3761-3342-4782-e186-b419861534cb"
      },
      "source": [
        "%time\n",
        "Hist_cifar = cifar.fit(X_train, y_train,\n",
        "                       epochs=100,\n",
        "                       batch_size=128,\n",
        "                       validation_split=0.3)"
      ],
      "execution_count": null,
      "outputs": [
        {
          "output_type": "stream",
          "name": "stdout",
          "text": [
            "CPU times: user 3 µs, sys: 1 µs, total: 4 µs\n",
            "Wall time: 8.58 µs\n",
            "Epoch 1/100\n",
            "274/274 [==============================] - 9s 29ms/step - loss: 1.9504 - accuracy: 0.3044 - val_loss: 1.7901 - val_accuracy: 0.3564\n",
            "Epoch 2/100\n",
            "274/274 [==============================] - 8s 28ms/step - loss: 1.7341 - accuracy: 0.3790 - val_loss: 1.7179 - val_accuracy: 0.3911\n",
            "Epoch 3/100\n",
            "274/274 [==============================] - 8s 28ms/step - loss: 1.6433 - accuracy: 0.4123 - val_loss: 1.6530 - val_accuracy: 0.4133\n",
            "Epoch 4/100\n",
            "274/274 [==============================] - 8s 28ms/step - loss: 1.5860 - accuracy: 0.4348 - val_loss: 1.7100 - val_accuracy: 0.3808\n",
            "Epoch 5/100\n",
            "274/274 [==============================] - 8s 28ms/step - loss: 1.5491 - accuracy: 0.4483 - val_loss: 1.6209 - val_accuracy: 0.4197\n",
            "Epoch 6/100\n",
            "274/274 [==============================] - 8s 29ms/step - loss: 1.5033 - accuracy: 0.4651 - val_loss: 1.5567 - val_accuracy: 0.4443\n",
            "Epoch 7/100\n",
            "274/274 [==============================] - 8s 28ms/step - loss: 1.4786 - accuracy: 0.4719 - val_loss: 1.5836 - val_accuracy: 0.4337\n",
            "Epoch 8/100\n",
            "274/274 [==============================] - 8s 28ms/step - loss: 1.4500 - accuracy: 0.4837 - val_loss: 1.5400 - val_accuracy: 0.4513\n",
            "Epoch 9/100\n",
            "274/274 [==============================] - 8s 28ms/step - loss: 1.4185 - accuracy: 0.4948 - val_loss: 1.5095 - val_accuracy: 0.4615\n",
            "Epoch 10/100\n",
            "274/274 [==============================] - 8s 28ms/step - loss: 1.3958 - accuracy: 0.5023 - val_loss: 1.5033 - val_accuracy: 0.4673\n",
            "Epoch 11/100\n",
            "274/274 [==============================] - 8s 28ms/step - loss: 1.3747 - accuracy: 0.5113 - val_loss: 1.4902 - val_accuracy: 0.4761\n",
            "Epoch 12/100\n",
            "274/274 [==============================] - 8s 29ms/step - loss: 1.3535 - accuracy: 0.5174 - val_loss: 1.4731 - val_accuracy: 0.4799\n",
            "Epoch 13/100\n",
            "274/274 [==============================] - 8s 28ms/step - loss: 1.3311 - accuracy: 0.5288 - val_loss: 1.4943 - val_accuracy: 0.4790\n",
            "Epoch 14/100\n",
            "274/274 [==============================] - 8s 28ms/step - loss: 1.3080 - accuracy: 0.5348 - val_loss: 1.4704 - val_accuracy: 0.4852\n",
            "Epoch 15/100\n",
            "274/274 [==============================] - 8s 28ms/step - loss: 1.2935 - accuracy: 0.5378 - val_loss: 1.4831 - val_accuracy: 0.4773\n",
            "Epoch 16/100\n",
            "274/274 [==============================] - 8s 28ms/step - loss: 1.2763 - accuracy: 0.5448 - val_loss: 1.4848 - val_accuracy: 0.4823\n",
            "Epoch 17/100\n",
            "274/274 [==============================] - 8s 28ms/step - loss: 1.2561 - accuracy: 0.5531 - val_loss: 1.4816 - val_accuracy: 0.4855\n",
            "Epoch 18/100\n",
            "274/274 [==============================] - 8s 28ms/step - loss: 1.2341 - accuracy: 0.5615 - val_loss: 1.4694 - val_accuracy: 0.4861\n",
            "Epoch 19/100\n",
            "274/274 [==============================] - 8s 28ms/step - loss: 1.2130 - accuracy: 0.5661 - val_loss: 1.4714 - val_accuracy: 0.4908\n",
            "Epoch 20/100\n",
            "274/274 [==============================] - 8s 28ms/step - loss: 1.2064 - accuracy: 0.5693 - val_loss: 1.4388 - val_accuracy: 0.4968\n",
            "Epoch 21/100\n",
            "274/274 [==============================] - 8s 28ms/step - loss: 1.1794 - accuracy: 0.5775 - val_loss: 1.4693 - val_accuracy: 0.4963\n",
            "Epoch 22/100\n",
            "274/274 [==============================] - 8s 28ms/step - loss: 1.1601 - accuracy: 0.5863 - val_loss: 1.4866 - val_accuracy: 0.4897\n",
            "Epoch 23/100\n",
            "274/274 [==============================] - 8s 28ms/step - loss: 1.1511 - accuracy: 0.5926 - val_loss: 1.4842 - val_accuracy: 0.4909\n",
            "Epoch 24/100\n",
            "274/274 [==============================] - 8s 28ms/step - loss: 1.1349 - accuracy: 0.5979 - val_loss: 1.4718 - val_accuracy: 0.4979\n",
            "Epoch 25/100\n",
            "274/274 [==============================] - 8s 28ms/step - loss: 1.1197 - accuracy: 0.6023 - val_loss: 1.4578 - val_accuracy: 0.5047\n",
            "Epoch 26/100\n",
            "274/274 [==============================] - 8s 28ms/step - loss: 1.1027 - accuracy: 0.6106 - val_loss: 1.4739 - val_accuracy: 0.5003\n",
            "Epoch 27/100\n",
            "274/274 [==============================] - 8s 28ms/step - loss: 1.0939 - accuracy: 0.6101 - val_loss: 1.4428 - val_accuracy: 0.5088\n",
            "Epoch 28/100\n",
            "274/274 [==============================] - 8s 28ms/step - loss: 1.0667 - accuracy: 0.6183 - val_loss: 1.5045 - val_accuracy: 0.4933\n",
            "Epoch 29/100\n",
            "274/274 [==============================] - 8s 28ms/step - loss: 1.0599 - accuracy: 0.6230 - val_loss: 1.4962 - val_accuracy: 0.4987\n",
            "Epoch 30/100\n",
            "274/274 [==============================] - 8s 28ms/step - loss: 1.0543 - accuracy: 0.6272 - val_loss: 1.4974 - val_accuracy: 0.4963\n",
            "Epoch 31/100\n",
            "274/274 [==============================] - 8s 28ms/step - loss: 1.0318 - accuracy: 0.6331 - val_loss: 1.4942 - val_accuracy: 0.4979\n",
            "Epoch 32/100\n",
            "274/274 [==============================] - 8s 28ms/step - loss: 1.0279 - accuracy: 0.6369 - val_loss: 1.5073 - val_accuracy: 0.5037\n",
            "Epoch 33/100\n",
            "274/274 [==============================] - 8s 28ms/step - loss: 1.0084 - accuracy: 0.6398 - val_loss: 1.5109 - val_accuracy: 0.4979\n",
            "Epoch 34/100\n",
            "274/274 [==============================] - 8s 28ms/step - loss: 0.9850 - accuracy: 0.6484 - val_loss: 1.5314 - val_accuracy: 0.5026\n",
            "Epoch 35/100\n",
            "274/274 [==============================] - 8s 28ms/step - loss: 0.9889 - accuracy: 0.6495 - val_loss: 1.5176 - val_accuracy: 0.5042\n",
            "Epoch 36/100\n",
            "274/274 [==============================] - 8s 28ms/step - loss: 0.9696 - accuracy: 0.6529 - val_loss: 1.5154 - val_accuracy: 0.5075\n",
            "Epoch 37/100\n",
            "274/274 [==============================] - 8s 28ms/step - loss: 0.9539 - accuracy: 0.6596 - val_loss: 1.5217 - val_accuracy: 0.5105\n",
            "Epoch 38/100\n",
            "274/274 [==============================] - 8s 28ms/step - loss: 0.9408 - accuracy: 0.6664 - val_loss: 1.5604 - val_accuracy: 0.5023\n",
            "Epoch 39/100\n",
            "274/274 [==============================] - 8s 28ms/step - loss: 0.9302 - accuracy: 0.6676 - val_loss: 1.5735 - val_accuracy: 0.4964\n",
            "Epoch 40/100\n",
            "274/274 [==============================] - 8s 29ms/step - loss: 0.9188 - accuracy: 0.6736 - val_loss: 1.5709 - val_accuracy: 0.5005\n",
            "Epoch 41/100\n",
            "274/274 [==============================] - 8s 29ms/step - loss: 0.9038 - accuracy: 0.6780 - val_loss: 1.6006 - val_accuracy: 0.5017\n",
            "Epoch 42/100\n",
            "274/274 [==============================] - 8s 28ms/step - loss: 0.8854 - accuracy: 0.6848 - val_loss: 1.5929 - val_accuracy: 0.5085\n",
            "Epoch 43/100\n",
            "274/274 [==============================] - 8s 28ms/step - loss: 0.8792 - accuracy: 0.6875 - val_loss: 1.6411 - val_accuracy: 0.4945\n",
            "Epoch 44/100\n",
            "274/274 [==============================] - 8s 28ms/step - loss: 0.8624 - accuracy: 0.6921 - val_loss: 1.6114 - val_accuracy: 0.5015\n",
            "Epoch 45/100\n",
            "274/274 [==============================] - 8s 28ms/step - loss: 0.8576 - accuracy: 0.6949 - val_loss: 1.6744 - val_accuracy: 0.4883\n",
            "Epoch 46/100\n",
            "274/274 [==============================] - 8s 28ms/step - loss: 0.8481 - accuracy: 0.6978 - val_loss: 1.6395 - val_accuracy: 0.5021\n",
            "Epoch 47/100\n",
            "274/274 [==============================] - 8s 28ms/step - loss: 0.8428 - accuracy: 0.7001 - val_loss: 1.6943 - val_accuracy: 0.4925\n",
            "Epoch 48/100\n",
            "274/274 [==============================] - 8s 30ms/step - loss: 0.8238 - accuracy: 0.7087 - val_loss: 1.7035 - val_accuracy: 0.4925\n",
            "Epoch 49/100\n",
            "274/274 [==============================] - 9s 33ms/step - loss: 0.8178 - accuracy: 0.7077 - val_loss: 1.7053 - val_accuracy: 0.4963\n",
            "Epoch 50/100\n",
            "274/274 [==============================] - 8s 28ms/step - loss: 0.8017 - accuracy: 0.7133 - val_loss: 1.7538 - val_accuracy: 0.4932\n",
            "Epoch 51/100\n",
            "274/274 [==============================] - 8s 28ms/step - loss: 0.7984 - accuracy: 0.7179 - val_loss: 1.7641 - val_accuracy: 0.4951\n",
            "Epoch 52/100\n",
            "274/274 [==============================] - 8s 28ms/step - loss: 0.7912 - accuracy: 0.7181 - val_loss: 1.7338 - val_accuracy: 0.5006\n",
            "Epoch 53/100\n",
            "274/274 [==============================] - 8s 29ms/step - loss: 0.7810 - accuracy: 0.7227 - val_loss: 1.7877 - val_accuracy: 0.4907\n",
            "Epoch 54/100\n",
            "274/274 [==============================] - 8s 29ms/step - loss: 0.7620 - accuracy: 0.7287 - val_loss: 1.7826 - val_accuracy: 0.5009\n",
            "Epoch 55/100\n",
            "274/274 [==============================] - 8s 29ms/step - loss: 0.7650 - accuracy: 0.7280 - val_loss: 1.7968 - val_accuracy: 0.4932\n",
            "Epoch 56/100\n",
            "274/274 [==============================] - 8s 29ms/step - loss: 0.7464 - accuracy: 0.7337 - val_loss: 1.7729 - val_accuracy: 0.5037\n",
            "Epoch 57/100\n",
            "274/274 [==============================] - 8s 29ms/step - loss: 0.7470 - accuracy: 0.7340 - val_loss: 1.7913 - val_accuracy: 0.4972\n",
            "Epoch 58/100\n",
            "274/274 [==============================] - 8s 29ms/step - loss: 0.7421 - accuracy: 0.7385 - val_loss: 1.7896 - val_accuracy: 0.4945\n",
            "Epoch 59/100\n",
            "274/274 [==============================] - 8s 29ms/step - loss: 0.7232 - accuracy: 0.7431 - val_loss: 1.8699 - val_accuracy: 0.4859\n",
            "Epoch 60/100\n",
            "274/274 [==============================] - 8s 28ms/step - loss: 0.7234 - accuracy: 0.7430 - val_loss: 1.8383 - val_accuracy: 0.5006\n",
            "Epoch 61/100\n",
            "274/274 [==============================] - 8s 29ms/step - loss: 0.7094 - accuracy: 0.7487 - val_loss: 1.9176 - val_accuracy: 0.4890\n",
            "Epoch 62/100\n",
            "274/274 [==============================] - 8s 29ms/step - loss: 0.7070 - accuracy: 0.7474 - val_loss: 1.8968 - val_accuracy: 0.4945\n",
            "Epoch 63/100\n",
            "274/274 [==============================] - 8s 29ms/step - loss: 0.6925 - accuracy: 0.7544 - val_loss: 1.8916 - val_accuracy: 0.4947\n",
            "Epoch 64/100\n",
            "274/274 [==============================] - 8s 29ms/step - loss: 0.6813 - accuracy: 0.7595 - val_loss: 1.9443 - val_accuracy: 0.4873\n",
            "Epoch 65/100\n",
            "274/274 [==============================] - 8s 29ms/step - loss: 0.6753 - accuracy: 0.7584 - val_loss: 1.9665 - val_accuracy: 0.4871\n",
            "Epoch 66/100\n",
            "274/274 [==============================] - 8s 29ms/step - loss: 0.6782 - accuracy: 0.7577 - val_loss: 2.0650 - val_accuracy: 0.4862\n",
            "Epoch 67/100\n",
            "274/274 [==============================] - 8s 29ms/step - loss: 0.6659 - accuracy: 0.7627 - val_loss: 2.0047 - val_accuracy: 0.4881\n",
            "Epoch 68/100\n",
            "274/274 [==============================] - 8s 29ms/step - loss: 0.6501 - accuracy: 0.7682 - val_loss: 1.9742 - val_accuracy: 0.4915\n",
            "Epoch 69/100\n",
            "274/274 [==============================] - 8s 29ms/step - loss: 0.6547 - accuracy: 0.7683 - val_loss: 2.0610 - val_accuracy: 0.4848\n",
            "Epoch 70/100\n",
            "274/274 [==============================] - 8s 29ms/step - loss: 0.6521 - accuracy: 0.7657 - val_loss: 2.0149 - val_accuracy: 0.4825\n",
            "Epoch 71/100\n",
            "274/274 [==============================] - 8s 29ms/step - loss: 0.6357 - accuracy: 0.7750 - val_loss: 2.1069 - val_accuracy: 0.4831\n",
            "Epoch 72/100\n",
            "274/274 [==============================] - 8s 29ms/step - loss: 0.6435 - accuracy: 0.7694 - val_loss: 2.0877 - val_accuracy: 0.4887\n",
            "Epoch 73/100\n",
            "274/274 [==============================] - 8s 29ms/step - loss: 0.6234 - accuracy: 0.7764 - val_loss: 2.1291 - val_accuracy: 0.4790\n",
            "Epoch 74/100\n",
            "274/274 [==============================] - 8s 29ms/step - loss: 0.6073 - accuracy: 0.7860 - val_loss: 2.1272 - val_accuracy: 0.4915\n",
            "Epoch 75/100\n",
            "274/274 [==============================] - 8s 29ms/step - loss: 0.6067 - accuracy: 0.7823 - val_loss: 2.1150 - val_accuracy: 0.4860\n",
            "Epoch 76/100\n",
            "274/274 [==============================] - 8s 29ms/step - loss: 0.6145 - accuracy: 0.7809 - val_loss: 2.1228 - val_accuracy: 0.4781\n",
            "Epoch 77/100\n",
            "274/274 [==============================] - 8s 29ms/step - loss: 0.5894 - accuracy: 0.7882 - val_loss: 2.2257 - val_accuracy: 0.4889\n",
            "Epoch 78/100\n",
            "274/274 [==============================] - 8s 29ms/step - loss: 0.5896 - accuracy: 0.7902 - val_loss: 2.1887 - val_accuracy: 0.4887\n",
            "Epoch 79/100\n",
            "274/274 [==============================] - 8s 29ms/step - loss: 0.5886 - accuracy: 0.7895 - val_loss: 2.2433 - val_accuracy: 0.4912\n",
            "Epoch 80/100\n",
            "274/274 [==============================] - 8s 29ms/step - loss: 0.5788 - accuracy: 0.7934 - val_loss: 2.2842 - val_accuracy: 0.4853\n",
            "Epoch 81/100\n",
            "274/274 [==============================] - 8s 29ms/step - loss: 0.5929 - accuracy: 0.7877 - val_loss: 2.2378 - val_accuracy: 0.4824\n",
            "Epoch 82/100\n",
            "274/274 [==============================] - 8s 29ms/step - loss: 0.5718 - accuracy: 0.7961 - val_loss: 2.2579 - val_accuracy: 0.4813\n",
            "Epoch 83/100\n",
            "274/274 [==============================] - 8s 29ms/step - loss: 0.5641 - accuracy: 0.8001 - val_loss: 2.2955 - val_accuracy: 0.4809\n",
            "Epoch 84/100\n",
            "274/274 [==============================] - 8s 29ms/step - loss: 0.5495 - accuracy: 0.8042 - val_loss: 2.3036 - val_accuracy: 0.4803\n",
            "Epoch 85/100\n",
            "274/274 [==============================] - 8s 29ms/step - loss: 0.5579 - accuracy: 0.8009 - val_loss: 2.4181 - val_accuracy: 0.4769\n",
            "Epoch 86/100\n",
            "274/274 [==============================] - 8s 29ms/step - loss: 0.5585 - accuracy: 0.8029 - val_loss: 2.3557 - val_accuracy: 0.4806\n",
            "Epoch 87/100\n",
            "274/274 [==============================] - 8s 29ms/step - loss: 0.5367 - accuracy: 0.8094 - val_loss: 2.4289 - val_accuracy: 0.4759\n",
            "Epoch 88/100\n",
            "274/274 [==============================] - 8s 30ms/step - loss: 0.5406 - accuracy: 0.8093 - val_loss: 2.3898 - val_accuracy: 0.4799\n",
            "Epoch 89/100\n",
            "274/274 [==============================] - 8s 29ms/step - loss: 0.5243 - accuracy: 0.8139 - val_loss: 2.3651 - val_accuracy: 0.4839\n",
            "Epoch 90/100\n",
            "274/274 [==============================] - 8s 29ms/step - loss: 0.5417 - accuracy: 0.8064 - val_loss: 2.3920 - val_accuracy: 0.4853\n",
            "Epoch 91/100\n",
            "274/274 [==============================] - 8s 29ms/step - loss: 0.5193 - accuracy: 0.8155 - val_loss: 2.4690 - val_accuracy: 0.4745\n",
            "Epoch 92/100\n",
            "274/274 [==============================] - 8s 29ms/step - loss: 0.5276 - accuracy: 0.8126 - val_loss: 2.4566 - val_accuracy: 0.4809\n",
            "Epoch 93/100\n",
            "274/274 [==============================] - 8s 29ms/step - loss: 0.5125 - accuracy: 0.8173 - val_loss: 2.4467 - val_accuracy: 0.4792\n",
            "Epoch 94/100\n",
            "274/274 [==============================] - 8s 29ms/step - loss: 0.5020 - accuracy: 0.8204 - val_loss: 2.5549 - val_accuracy: 0.4875\n",
            "Epoch 95/100\n",
            "274/274 [==============================] - 8s 29ms/step - loss: 0.4986 - accuracy: 0.8220 - val_loss: 2.5860 - val_accuracy: 0.4711\n",
            "Epoch 96/100\n",
            "274/274 [==============================] - 8s 29ms/step - loss: 0.5110 - accuracy: 0.8175 - val_loss: 2.5824 - val_accuracy: 0.4752\n",
            "Epoch 97/100\n",
            "274/274 [==============================] - 8s 29ms/step - loss: 0.4809 - accuracy: 0.8280 - val_loss: 2.5497 - val_accuracy: 0.4829\n",
            "Epoch 98/100\n",
            "274/274 [==============================] - 8s 29ms/step - loss: 0.5079 - accuracy: 0.8184 - val_loss: 2.5515 - val_accuracy: 0.4753\n",
            "Epoch 99/100\n",
            "274/274 [==============================] - 8s 29ms/step - loss: 0.4785 - accuracy: 0.8313 - val_loss: 2.5639 - val_accuracy: 0.4779\n",
            "Epoch 100/100\n",
            "274/274 [==============================] - 8s 29ms/step - loss: 0.4766 - accuracy: 0.8335 - val_loss: 2.6703 - val_accuracy: 0.4771\n"
          ]
        }
      ]
    },
    {
      "cell_type": "code",
      "metadata": {
        "colab": {
          "base_uri": "https://localhost:8080/",
          "height": 404
        },
        "id": "-68OVaJiRdIr",
        "outputId": "faef6b32-68e9-4322-ca98-087fd93f5605"
      },
      "source": [
        "epochs = range(1, len(Hist_cifar.history['loss']) + 1) # 횟수\n",
        "\n",
        "plt.figure(figsize=(9,6))\n",
        "plt.plot(epochs, Hist_cifar.history['loss'])\n",
        "plt.plot(epochs, Hist_cifar.history['val_loss'])\n",
        "# plt.ylim(0, 0.25)\n",
        "plt.title('Training & Validation Loss')\n",
        "plt.xlabel('Epochs')\n",
        "plt.ylabel('Loss')\n",
        "plt.legend(['Training Loss', 'Validation Loss']) # legend : 범례\n",
        "plt.grid()\n",
        "plt.show()"
      ],
      "execution_count": null,
      "outputs": [
        {
          "output_type": "display_data",
          "data": {
            "image/png": "[encoded data removed]",
            "text/plain": [
              "<Figure size 648x432 with 1 Axes>"
            ]
          },
          "metadata": {
            "needs_background": "light"
          }
        }
      ]
    },
    {
      "cell_type": "code",
      "metadata": {
        "colab": {
          "base_uri": "https://localhost:8080/"
        },
        "id": "0uHXa-JfRdFn",
        "outputId": "dde2a776-6224-4873-943c-789f9acc6268"
      },
      "source": [
        "# Loss & Accuracy\n",
        "loss, accuracy = cifar.evaluate(X_test, y_test)\n",
        "\n",
        "print('Loss = {:.5f}'.format(loss))\n",
        "print('Accuracy = {:.5f}'.format(accuracy))"
      ],
      "execution_count": null,
      "outputs": [
        {
          "output_type": "stream",
          "name": "stdout",
          "text": [
            "313/313 [==============================] - 2s 5ms/step - loss: 2.6034 - accuracy: 0.4791\n",
            "Loss = 2.60343\n",
            "Accuracy = 0.47910\n"
          ]
        }
      ]
    },
    {
      "cell_type": "markdown",
      "metadata": {
        "id": "uPr_QKxmhG5_"
      },
      "source": [
        "### Accuracy가 좋지 않다...."
      ]
    },
    {
      "cell_type": "code",
      "metadata": {
        "id": "HpKz_iitRdAO"
      },
      "source": [
        ""
      ],
      "execution_count": null,
      "outputs": []
    }
  ]
}